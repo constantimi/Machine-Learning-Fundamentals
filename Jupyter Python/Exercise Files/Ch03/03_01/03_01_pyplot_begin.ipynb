{
 "cells": [
  {
   "cell_type": "code",
   "execution_count": 3,
   "metadata": {
    "slideshow": {
     "slide_type": "slide"
    }
   },
   "outputs": [],
   "source": [
    "import matplotlib.pyplot as plt\n",
    "import numpy as np\n",
    "import pandas as pd"
   ]
  },
  {
   "cell_type": "code",
   "execution_count": 5,
   "metadata": {
    "slideshow": {
     "slide_type": "slide"
    }
   },
   "outputs": [],
   "source": [
    "df = pd.read_csv(\"../../inputs/Environmental_Data_Deep_Moor_2015.csv\")"
   ]
  },
  {
   "cell_type": "code",
   "execution_count": 7,
   "metadata": {},
   "outputs": [],
   "source": [
    "?plt.plot"
   ]
  },
  {
   "cell_type": "code",
   "execution_count": 9,
   "metadata": {},
   "outputs": [],
   "source": [
    "# %load hours_dict.py\n",
    "\n",
    "def hours_dict(date):\n",
    "    day = df[df['date']==date]\n",
    "    hours = [time.split(':')[0] for time in day['time']]\n",
    "    hours_dict = {i:hours.count(str(i)) for i in np.arange(24)}\n",
    "    return hours_dict\n"
   ]
  },
  {
   "cell_type": "code",
   "execution_count": 21,
   "metadata": {},
   "outputs": [
    {
     "data": {
      "image/png": "[encoded data removed]",
      "text/plain": [
       "<Figure size 432x288 with 1 Axes>"
      ]
     },
     "metadata": {
      "needs_background": "light"
     },
     "output_type": "display_data"
    }
   ],
   "source": [
    "feb15 = hours_dict('2015_02_15')\n",
    "feb16 = hours_dict('2015_02_16')\n",
    "plt.plot(feb15.keys(), feb15.values())\n",
    "plt.plot(feb16.keys(), feb16.values())\n",
    "plt.xticks(np.arange(0,24,6))\n",
    "plt.xlim(-3,26)\n",
    "plt.ylim(-3,28)\n",
    "plt.xlabel('Hour of the day')\n",
    "plt.ylabel('Measurements Taken')\n",
    "plt.title('Measurements by Hour')\n",
    "plt.show()"
   ]
  }
 ],
 "metadata": {
  "kernelspec": {
   "display_name": "Python 3",
   "language": "python",
   "name": "python3"
  },
  "language_info": {
   "codemirror_mode": {
    "name": "ipython",
    "version": 3
   },
   "file_extension": ".py",
   "mimetype": "text/x-python",
   "name": "python",
   "nbconvert_exporter": "python",
   "pygments_lexer": "ipython3",
   "version": "3.8.5"
  }
 },
 "nbformat": 4,
 "nbformat_minor": 2
}
